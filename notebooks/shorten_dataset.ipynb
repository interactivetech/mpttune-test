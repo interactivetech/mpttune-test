{
 "cells": [
  {
   "cell_type": "markdown",
   "id": "cff1e963-2358-4cec-bef6-0e44b83a5e2a",
   "metadata": {},
   "source": [
    "## Simple notebook to shorten dataset to 10%"
   ]
  },
  {
   "cell_type": "code",
   "execution_count": 7,
   "id": "64a106c9-00b5-4375-a27d-366c5833d207",
   "metadata": {},
   "outputs": [],
   "source": [
    "import pandas as pd\n",
    "import random\n",
    "import json"
   ]
  },
  {
   "cell_type": "code",
   "execution_count": 19,
   "id": "b911e973-5690-41f6-a79b-0f851dc383e9",
   "metadata": {},
   "outputs": [
    {
     "name": "stdout",
     "output_type": "stream",
     "text": [
      "51760\n",
      "5176\n",
      "Sampled 5176 rows saved to ../alpaca_data_cleaned_5k.json\n"
     ]
    }
   ],
   "source": [
    "import json\n",
    "import random\n",
    "\n",
    "def sample_json_file(input_file, output_file, sample_percentage):\n",
    "    # Load JSON file\n",
    "    with open(input_file, 'r') as file:\n",
    "        data = json.load(file)\n",
    "    len_d = len(data)\n",
    "    print(len_d)\n",
    "    new_len = int(len_d * sample_percentage)\n",
    "    print(new_len)\n",
    "    # Sample random rows without replacement, wont add back elements, and prevent same choice picked twice\n",
    "    sampled_data = random.sample(data, min(new_len, len(data)))\n",
    "    \n",
    "    # Save sampled data to JSON file\n",
    "    with open(output_file, 'w') as file:\n",
    "        json.dump(sampled_data, file)\n",
    "    \n",
    "    print(f\"Sampled {len(sampled_data)} rows saved to {output_file}\")\n",
    "\n",
    "# Example usage\n",
    "input_file = '../alpaca_data_cleaned.json'  # Path to the input JSON file\n",
    "output_file = '../alpaca_data_cleaned_5k.json'  # Path to the output JSON file\n",
    "sample_percentage = 0.1  # Number of random rows to sample\n",
    "\n",
    "sample_json_file(input_file, output_file, sample_percentage)"
   ]
  },
  {
   "cell_type": "code",
   "execution_count": 3,
   "id": "4b51cc0b-39f8-4442-b152-90f1cef790de",
   "metadata": {},
   "outputs": [
    {
     "data": {
      "text/html": [
       "<div>\n",
       "<style scoped>\n",
       "    .dataframe tbody tr th:only-of-type {\n",
       "        vertical-align: middle;\n",
       "    }\n",
       "\n",
       "    .dataframe tbody tr th {\n",
       "        vertical-align: top;\n",
       "    }\n",
       "\n",
       "    .dataframe thead th {\n",
       "        text-align: right;\n",
       "    }\n",
       "</style>\n",
       "<table border=\"1\" class=\"dataframe\">\n",
       "  <thead>\n",
       "    <tr style=\"text-align: right;\">\n",
       "      <th></th>\n",
       "      <th>instruction</th>\n",
       "      <th>input</th>\n",
       "      <th>output</th>\n",
       "    </tr>\n",
       "  </thead>\n",
       "  <tbody>\n",
       "    <tr>\n",
       "      <th>0</th>\n",
       "      <td>Give three tips for staying healthy.</td>\n",
       "      <td></td>\n",
       "      <td>1. Eat a balanced and nutritious diet: Make su...</td>\n",
       "    </tr>\n",
       "    <tr>\n",
       "      <th>1</th>\n",
       "      <td>What are the three primary colors?</td>\n",
       "      <td></td>\n",
       "      <td>The three primary colors are red, blue, and ye...</td>\n",
       "    </tr>\n",
       "    <tr>\n",
       "      <th>2</th>\n",
       "      <td>Describe the structure of an atom.</td>\n",
       "      <td></td>\n",
       "      <td>An atom is the basic building block of all mat...</td>\n",
       "    </tr>\n",
       "    <tr>\n",
       "      <th>3</th>\n",
       "      <td>How can we reduce air pollution?</td>\n",
       "      <td></td>\n",
       "      <td>There are several ways to reduce air pollution...</td>\n",
       "    </tr>\n",
       "    <tr>\n",
       "      <th>4</th>\n",
       "      <td>Pretend you are a project manager of a constru...</td>\n",
       "      <td></td>\n",
       "      <td>I had to make a difficult decision when I was ...</td>\n",
       "    </tr>\n",
       "    <tr>\n",
       "      <th>...</th>\n",
       "      <td>...</td>\n",
       "      <td>...</td>\n",
       "      <td>...</td>\n",
       "    </tr>\n",
       "    <tr>\n",
       "      <th>5171</th>\n",
       "      <td>Describe the differences between web applicati...</td>\n",
       "      <td></td>\n",
       "      <td>Web applications and mobile applications are t...</td>\n",
       "    </tr>\n",
       "    <tr>\n",
       "      <th>5172</th>\n",
       "      <td>Describe the benefits of using an online shopp...</td>\n",
       "      <td></td>\n",
       "      <td>Online shopping carts are a feature of many e-...</td>\n",
       "    </tr>\n",
       "    <tr>\n",
       "      <th>5173</th>\n",
       "      <td>Write a mental health tip.</td>\n",
       "      <td></td>\n",
       "      <td>It's important to take time for yourself and e...</td>\n",
       "    </tr>\n",
       "    <tr>\n",
       "      <th>5174</th>\n",
       "      <td>List the components of a typical internet router.</td>\n",
       "      <td></td>\n",
       "      <td>A typical internet router is composed of sever...</td>\n",
       "    </tr>\n",
       "    <tr>\n",
       "      <th>5175</th>\n",
       "      <td>Explain the difference between ethical hacking...</td>\n",
       "      <td></td>\n",
       "      <td>Hacking is the act of exploiting computer syst...</td>\n",
       "    </tr>\n",
       "  </tbody>\n",
       "</table>\n",
       "<p>5176 rows × 3 columns</p>\n",
       "</div>"
      ],
      "text/plain": [
       "                                            instruction input   \n",
       "0                  Give three tips for staying healthy.        \\\n",
       "1                    What are the three primary colors?         \n",
       "2                    Describe the structure of an atom.         \n",
       "3                      How can we reduce air pollution?         \n",
       "4     Pretend you are a project manager of a constru...         \n",
       "...                                                 ...   ...   \n",
       "5171  Describe the differences between web applicati...         \n",
       "5172  Describe the benefits of using an online shopp...         \n",
       "5173                         Write a mental health tip.         \n",
       "5174  List the components of a typical internet router.         \n",
       "5175  Explain the difference between ethical hacking...         \n",
       "\n",
       "                                                 output  \n",
       "0     1. Eat a balanced and nutritious diet: Make su...  \n",
       "1     The three primary colors are red, blue, and ye...  \n",
       "2     An atom is the basic building block of all mat...  \n",
       "3     There are several ways to reduce air pollution...  \n",
       "4     I had to make a difficult decision when I was ...  \n",
       "...                                                 ...  \n",
       "5171  Web applications and mobile applications are t...  \n",
       "5172  Online shopping carts are a feature of many e-...  \n",
       "5173  It's important to take time for yourself and e...  \n",
       "5174  A typical internet router is composed of sever...  \n",
       "5175  Hacking is the act of exploiting computer syst...  \n",
       "\n",
       "[5176 rows x 3 columns]"
      ]
     },
     "execution_count": 3,
     "metadata": {},
     "output_type": "execute_result"
    }
   ],
   "source": [
    "# pd.read_json('../alpaca_data_cleaned_5k.json')"
   ]
  },
  {
   "cell_type": "code",
   "execution_count": 9,
   "id": "d6cb159c-0d36-4b16-864f-4c6c5b4cdf74",
   "metadata": {},
   "outputs": [
    {
     "ename": "NameError",
     "evalue": "name 'data' is not defined",
     "output_type": "error",
     "traceback": [
      "\u001b[0;31m---------------------------------------------------------------------------\u001b[0m",
      "\u001b[0;31mNameError\u001b[0m                                 Traceback (most recent call last)",
      "Cell \u001b[0;32mIn[9], line 1\u001b[0m\n\u001b[0;32m----> 1\u001b[0m \u001b[43mdata\u001b[49m\n",
      "\u001b[0;31mNameError\u001b[0m: name 'data' is not defined"
     ]
    }
   ],
   "source": [
    "data"
   ]
  },
  {
   "cell_type": "code",
   "execution_count": 20,
   "id": "ba6b121e-ca3b-4c6c-a84a-727c52f30502",
   "metadata": {},
   "outputs": [],
   "source": [
    "data = json.load(open('../alpaca_data_cleaned_5k.json','r'))"
   ]
  },
  {
   "cell_type": "code",
   "execution_count": 22,
   "id": "9980feb4-4adc-4045-bb84-1324fb5bc063",
   "metadata": {},
   "outputs": [],
   "source": [
    "# data"
   ]
  },
  {
   "cell_type": "code",
   "execution_count": 14,
   "id": "acf451c4-2d80-4398-96e3-99c8e8921227",
   "metadata": {},
   "outputs": [
    {
     "data": {
      "text/plain": [
       "[{'instruction': 'Name three elements in the periodic table.',\n",
       "  'input': '',\n",
       "  'output': 'Here are three elements in the periodic table: \\n\\n1. Hydrogen (H)\\n2. Oxygen (O)\\n3. Iron (Fe)'},\n",
       " {'instruction': 'Rewrite this sentence so that it is two sentences',\n",
       "  'input': 'The professor taught the students lessons on the effects of climate change.',\n",
       "  'output': 'The professor taught the students about climate change. They specifically focused on the effects of this phenomenon.'},\n",
       " {'instruction': 'Classify this tweet from the categories of positive, negative, or neutral.',\n",
       "  'input': \"Tweet: I'm so thankful for all the wonderful people in my life\",\n",
       "  'output': 'Classification: Positive'},\n",
       " {'instruction': 'Rewrite the following paragraph in a more concise manner, preserving only the most important information.',\n",
       "  'input': \"The small, rural community was comprised of just a few houses on a long, dusty road. Each one was a different color and had a unique mailbox with intricate designs. Everyone who lived there knew each other well, and they often had gatherings at the heart of the community. Children played outdoors during the day, and the adults would spend their evenings together, talking about life and sharing memories. They had a strong bond and truly enjoyed one another's company, creating an atmosphere of togetherness, love and support that made the entire community a special place for everyone involved.\",\n",
       "  'output': 'In the tight-knit rural community, residents knew each other well, frequently gathering to socialize and forming strong bonds that fostered a loving, supportive atmosphere.'},\n",
       " {'instruction': 'Structures the following instructions into a step by step guide.',\n",
       "  'input': 'Initiate a conversation with someone on LinkedIn for job related advice.',\n",
       "  'output': 'Here is a step-by-step guide on how to initiate a conversation with someone on LinkedIn for job-related advice:\\n\\n1. Log in to your LinkedIn account.\\n2. Identify the individual that you want to reach out to for job-related advice. \\n3. Navigate to their LinkedIn profile and click on the \"Message\" button. \\n4. Write a subject line that clearly states the purpose of your message. For example, \"Seeking Advice Regarding Job Search.\"\\n5. In the body of the message, introduce yourself, and explain why you are reaching out to this person. Be specific about the type of information, guidance or advice you hope to receive.\\n6. Be polite and professional in your tone, and thank the person in advance for considering your request. \\n7. Click on the \"Send\" button to initiate the conversation.\\n8. Wait for a response and make sure to check your LinkedIn messages regularly for any reply from the person.'},\n",
       " {'instruction': 'Name all the elements in the periodic table with symbol C.',\n",
       "  'input': '',\n",
       "  'output': 'Carbon is the only element in the periodic table with the symbol C. Carbon is a non-metal element with atomic number 6, and its common isotopes have mass numbers of 12 and 13.'},\n",
       " {'instruction': 'Describe how the new system works',\n",
       "  'input': 'The new system is a mobile app that will allow users to pay directly with their phones.',\n",
       "  'output': 'The new system functions as an advanced mobile payment system which enables its users to make financial transactions using their mobile phones. It will be available for download as a mobile app on various app stores. Once installed, you will be prompted to input your personal and credit card information, which will be securely stored within the app. \\n\\nWhen it comes time to make a purchase, you will be able to use the app to access your stored credit card information and pay for your purchase directly through your phone. The transaction will happen in real-time, allowing for a seamless and hassle-free payment experience. \\n\\nThis new system eliminates the need to physically carry your credit cards, as all your information is securely stored on your phone. The app makes use of advanced security measures to ensure that your information is safe and protected from unauthorized access. With the new system in place, making purchases is now faster, more convenient, and more secure than ever before.'},\n",
       " {'instruction': 'Compare the two following people.',\n",
       "  'input': 'John - tall, strong\\nAdam - short, weak',\n",
       "  'output': 'John and Adam differ in terms of their physique. John is described as being tall and strong, while Adam is characterized as being short and weak. These differences in physical characteristics could potentially impact the kinds of activities they engage in or their physical capabilities.'},\n",
       " {'instruction': 'Assume you are an art collector and are on the lookout for artwork. What questions would you ask a gallery?',\n",
       "  'input': '',\n",
       "  'output': \"1. Can you tell me about the artists featured in your gallery?\\n2. Are there any new or upcoming artists you're showcasing at the moment?\\n3. Which artists or pieces would you recommend for my collection, based on my interests and tastes?\\n4. How do you authenticate the artwork you sell and can you provide documentation for it?\\n5. Are there any special exhibits or events coming up that I should be aware of?\\n6. Can you provide detailed information about the techniques, medium, and materials used in the pieces that interest me?\\n7. What is the price range of the artwork in your gallery? \\n8. Do you offer any flexible payment options or installment plans?\\n9. Can I arrange a private viewing or consultation with one of your art experts?\\n10. What's your return or exchange policy for pieces purchased from your gallery?\"},\n",
       " {'instruction': 'Identify 3 ways in which climate change is adversely affecting human health.',\n",
       "  'input': '',\n",
       "  'output': '1. Extreme Weather: Climate change has increased the frequency and intensity of natural disasters such as heatwaves, floods, droughts, and hurricanes. These events can cause direct injury and death, as well as exacerbate existing health conditions like respiratory and cardiovascular disease, and heat stroke, particularly in vulnerable populations such as the elderly and children.\\n\\n2. Air Quality: Rising temperatures, increasing CO2 concentrations, and the generation of more ground-level ozone and particulate matter associated with climate change can worsen air quality. This in turn can cause or aggravate health conditions such as asthma, allergies, heart disease, and stroke, particularly in urban areas.\\n\\n3. Infectious Diseases: Climate change alters the range and distribution of disease-carrying insects such as mosquitoes, ticks, and fleas, increasing the risk of infection and transmission of diseases such as dengue, West Nile virus, Lyme disease, and malaria. Changes in temperature and precipitation patterns also affect the transmission of water-borne diseases such as cholera, particularly in areas with poor sanitation and inadequate water treatment facilities.'}]"
      ]
     },
     "execution_count": 14,
     "metadata": {},
     "output_type": "execute_result"
    }
   ],
   "source": [
    "# import random\n",
    "# random.sample(data,k=10)"
   ]
  },
  {
   "cell_type": "code",
   "execution_count": null,
   "id": "f5de2e92-b4a1-44f2-b91a-d3cf329bfb4a",
   "metadata": {},
   "outputs": [],
   "source": []
  }
 ],
 "metadata": {
  "kernelspec": {
   "display_name": "Python 3 (ipykernel)",
   "language": "python",
   "name": "python3"
  },
  "language_info": {
   "codemirror_mode": {
    "name": "ipython",
    "version": 3
   },
   "file_extension": ".py",
   "mimetype": "text/x-python",
   "name": "python",
   "nbconvert_exporter": "python",
   "pygments_lexer": "ipython3",
   "version": "3.8.16"
  }
 },
 "nbformat": 4,
 "nbformat_minor": 5
}
