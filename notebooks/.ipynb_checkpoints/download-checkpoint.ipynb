{
 "cells": [
  {
   "cell_type": "markdown",
   "id": "0beb4689-e569-495b-9794-d3fb8f9f33e8",
   "metadata": {},
   "source": [
    "# Load and Save pretrained MPT 30 B"
   ]
  },
  {
   "cell_type": "code",
   "execution_count": null,
   "id": "d3f91f06-48fc-4529-b548-73d50b2d76f7",
   "metadata": {},
   "outputs": [],
   "source": [
    "!pip install transformers einops accelerate datasets accelerate"
   ]
  },
  {
   "cell_type": "code",
   "execution_count": null,
   "id": "05b35a07-bf1b-4a7a-8d53-aeeadc467f9b",
   "metadata": {},
   "outputs": [],
   "source": [
    "from transformers import AutoTokenizer, TextDataset, DataCollatorForLanguageModeling, AutoModelForCausalLM, pipeline, \\\n",
    "                         Trainer, TrainingArguments\n",
    "import torch\n",
    "from datasets import Dataset\n",
    "from datasets import load_dataset\n",
    "import pandas as pd\n",
    "from determined.experimental import Determined\n",
    "# from utils import load_model_from_checkpoint\n",
    "from determined.experimental import client\n",
    "from determined import pytorch"
   ]
  },
  {
   "cell_type": "code",
   "execution_count": null,
   "id": "d6645ee9-c2a6-4c42-bd7a-4903cede623c",
   "metadata": {},
   "outputs": [],
   "source": [
    "model = AutoModelForCausalLM.from_pretrained(\n",
    "    'mosaicml/mpt-30b',\n",
    "    cache_dir=CACHE_DIR,\n",
    "    use_auth_token=None,\n",
    "    torch_dtype=torch_dtype,\n",
    "    low_cpu_mem_usage=True,\n",
    "    trust_remote_code=True,\n",
    ")\n",
    "model.save_pretrained('/cstor/mendeza/hf_test/mpt-30b')"
   ]
  }
 ],
 "metadata": {
  "kernelspec": {
   "display_name": "Python 3 (ipykernel)",
   "language": "python",
   "name": "python3"
  },
  "language_info": {
   "codemirror_mode": {
    "name": "ipython",
    "version": 3
   },
   "file_extension": ".py",
   "mimetype": "text/x-python",
   "name": "python",
   "nbconvert_exporter": "python",
   "pygments_lexer": "ipython3",
   "version": "3.8.16"
  }
 },
 "nbformat": 4,
 "nbformat_minor": 5
}
